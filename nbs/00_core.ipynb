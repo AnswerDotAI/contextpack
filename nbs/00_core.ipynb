{
 "cells": [
  {
   "cell_type": "markdown",
   "metadata": {},
   "source": [
    "# core\n",
    "\n",
    "> Implements the contextpack topics"
   ]
  },
  {
   "cell_type": "code",
   "execution_count": null,
   "metadata": {},
   "outputs": [],
   "source": [
    "#| default_exp core"
   ]
  },
  {
   "cell_type": "code",
   "execution_count": null,
   "metadata": {},
   "outputs": [],
   "source": [
    "#| hide\n",
    "from nbdev.showdoc import *"
   ]
  },
  {
   "cell_type": "code",
   "execution_count": null,
   "metadata": {},
   "outputs": [],
   "source": [
    "#| export\n",
    "\n",
    "from typing import Callable\n",
    "from contextkit import *\n",
    "from fastcore.utils import *"
   ]
  },
  {
   "cell_type": "markdown",
   "metadata": {},
   "source": [
    "Define a Topic and SubTopic (ST)"
   ]
  },
  {
   "cell_type": "code",
   "execution_count": null,
   "metadata": {},
   "outputs": [],
   "source": [
    "#| export\n",
    "\n",
    "class Topic:\n",
    "    def _children(self):\n",
    "        return sorted(list(set(c for c in dir(self) if not c.startswith('_')) - {'get','getter','docs','url'}))\n",
    "    def __repr__(self):\n",
    "        s = ''\n",
    "        if self.__doc__: s += f\"doc: {self.__doc__}\\n\"\n",
    "        if (cs := self._children()): s += f\"sub-topics: {cs}\\n\"            \n",
    "        return s\n"
   ]
  },
  {
   "cell_type": "code",
   "execution_count": null,
   "metadata": {},
   "outputs": [],
   "source": [
    "#| export\n",
    "\n",
    "class ST:\n",
    "    def __init__(self,url,getter:Callable=read_url):\n",
    "        self.url = url\n",
    "        self.getter = getter\n",
    "    def get(self):\n",
    "        return self.getter(self.url)\n",
    "    def __repr__(self):\n",
    "        s = ''\n",
    "        if self.url: s += f\"URL: {self.url}\\n\"\n",
    "        return s\n"
   ]
  },
  {
   "cell_type": "markdown",
   "metadata": {},
   "source": [
    "We define a topic via a `Topic` subclass, which defines attributes which are `ST`s: "
   ]
  },
  {
   "cell_type": "code",
   "execution_count": null,
   "metadata": {},
   "outputs": [],
   "source": [
    "#| export\n",
    "\n",
    "class CTX_Fastlite_Sqlutils(Topic):\n",
    "    \"LLM contexts on fastlite-sqlutils\"\n",
    "    def __init__(self):\n",
    "        self.fastlite_index    = ST('https://answerdotai.github.io/fastlite/index.html.md')\n",
    "        self.fastlite_core     = ST('https://answerdotai.github.io/fastlite/core.html.md')\n",
    "        self.sqlite_utils_docs = ST('https://sqlite-utils.datasette.io/en/stable/python-api.html',\n",
    "                                    lambda url:read_url(url,sel='#sqlite-utils-python-library'))\n"
   ]
  },
  {
   "cell_type": "code",
   "execution_count": null,
   "metadata": {},
   "outputs": [],
   "source": [
    "ctx_fastlite_sqlutils = CTX_Fastlite_Sqlutils()"
   ]
  },
  {
   "cell_type": "code",
   "execution_count": null,
   "metadata": {},
   "outputs": [
    {
     "data": {
      "text/plain": [
       "doc: LLM contexts on fastlite-sqlutils\n",
       "sub-topics: ['fastlite_core', 'fastlite_index', 'sqlite_utils_docs']"
      ]
     },
     "execution_count": null,
     "metadata": {},
     "output_type": "execute_result"
    }
   ],
   "source": [
    "ctx_fastlite_sqlutils"
   ]
  },
  {
   "cell_type": "code",
   "execution_count": null,
   "metadata": {},
   "outputs": [
    {
     "data": {
      "text/plain": [
       "URL: https://answerdotai.github.io/fastlite/core.html.md"
      ]
     },
     "execution_count": null,
     "metadata": {},
     "output_type": "execute_result"
    }
   ],
   "source": [
    "ctx_fastlite_sqlutils.fastlite_core"
   ]
  },
  {
   "cell_type": "code",
   "execution_count": null,
   "metadata": {},
   "outputs": [],
   "source": [
    "#| export\n",
    "\n",
    "class CTX_Claudette(Topic):\n",
    "    def __init__(self):\n",
    "        self.async_docs    = ST('https://claudette.answer.ai/async.html.md')\n",
    "        self.core_docs     = ST('https://claudette.answer.ai/core.html.md')\n",
    "        self.toolloop_docs = ST('https://claudette.answer.ai/toolloop.html.md')\n",
    "\n"
   ]
  },
  {
   "cell_type": "code",
   "execution_count": null,
   "metadata": {},
   "outputs": [],
   "source": [
    "#| export\n",
    "\n",
    "class CTX_Docker(Topic):\n",
    "    def __init__(self):\n",
    "        self.compose_file       = ST('https://docs.docker.com/reference/compose-file/')\n",
    "        self.docker_cli         = ST('https://docs.docker.com/reference/cli/docker/')\n",
    "        self.docker_compose_cli = ST('https://docs.docker.com/reference/cli/docker/compose/')\n",
    "        self.dockerd            = ST('https://docs.docker.com/reference/cli/dockerd/')\n",
    "        \n",
    "        # page-based URLs\n",
    "        url = 'https://docker-py.readthedocs.io/en/stable/{}.html'\n",
    "        page_names = ['client','configs','containers','images','networks','nodes',\n",
    "                 'plugins','secrets','services','swarm','volumes','api','tls',]\n",
    "        pageurls = [(f\"pg_{p}\",url.format(p)) for p in page_names]\n",
    "        for name,url in pageurls: setattr(self,name,ST(url))\n",
    "        "
   ]
  },
  {
   "cell_type": "code",
   "execution_count": null,
   "metadata": {},
   "outputs": [],
   "source": [
    "#| export\n",
    "\n",
    "class CTX_FastHtml(Topic):\n",
    "    \"LLM-friendly documentation for FastHtml\"\n",
    "    def __init__(self):\n",
    "        self.fasthtml_llms_ctx = ST('https://docs.fastht.ml/llms-ctx.txt')\n",
    "        self.hypermedia_summary = ST('https://gist.github.com/jph00/4ad7d35ad79013aded41b5ba535a12a3',read_gist)\n"
   ]
  },
  {
   "cell_type": "code",
   "execution_count": null,
   "metadata": {},
   "outputs": [],
   "source": [
    "#| export\n",
    "\n",
    "class CTX_NBClassicServer(Topic):\n",
    "    def __init__(self):\n",
    "        self.nbclassic_server = ST('https://nbclassic.readthedocs.io/en/latest/nbclassic.html',\n",
    "                                   lambda url:read_url(url,self='bd-article'))\n"
   ]
  },
  {
   "cell_type": "code",
   "execution_count": null,
   "metadata": {},
   "outputs": [],
   "source": [
    "#| export\n",
    "\n",
    "class CTX_Fastcore(Topic):\n",
    "    def __init__(self):\n",
    "        self.fc_llms_ctx   = ST('https://fastcore.fast.ai/llms-ctx.txt')"
   ]
  },
  {
   "cell_type": "markdown",
   "metadata": {},
   "source": [
    "We take care to name all topics with a `ctx_` prefix in order to support autocomplete."
   ]
  },
  {
   "cell_type": "code",
   "execution_count": null,
   "metadata": {},
   "outputs": [],
   "source": [
    "#| export\n",
    "\n",
    "ctx_docker = CTX_Docker()\n",
    "ctx_fastcore = CTX_Fastcore()\n",
    "ctx_nbclassic_server = CTX_NBClassicServer()\n",
    "ctx_fasthtml = CTX_FastHtml()\n",
    "ctx_claudette = CTX_Claudette()\n",
    "ctx_fastlite_sqlutils = CTX_Fastlite_Sqlutils()\n"
   ]
  },
  {
   "cell_type": "markdown",
   "metadata": {},
   "source": [
    "### Design considerations:\n",
    "\n",
    "0. Should be easy for anyone to contribute new material, by adding to a python module.\n",
    "\n",
    "1. Want to enable the user to be able to browse-via-autocomplete over canned contexts by name.\n",
    "\n",
    "2. Want this autocomplete to work immediately, without the user needing to do anything besides importing the library.\n",
    "\n",
    "3. Want \"lazy fetching\" (i.e. evaluation), so merely importing the library does not trigger dozens of network fetches.\n",
    "\n",
    "4. nice-to-have. a facility for information _about_ the context besides just the name of it. Ideally interoperating with the normal docstring mechanism?\n",
    "\n",
    "### Findings:\n",
    "\n",
    "1. Existing solution uses function application to defer loading, but that also blocks providing immediate autocomplete over subtopics.\n",
    "\n",
    "2. `AttrDict` out-of-the-box produces too many completions for a great UX but maybe goodenough\n",
    "\n",
    "3. \n",
    "\n",
    "### Tentative design\n",
    "\n",
    "- top-level module namespace defines variables `ctx_fastcore`, `ctx_docker`, etc.., which provide context on major topics like fastcore, docker, etc..\n",
    "- attributes on these objects will autocomplete over sub-topics within each topic\n",
    "- each subtopic is represented by an object, which defines `.get()` which will return the context information.\n",
    "- A repr\n",
    "\n",
    "- \"anything returned by .get() can be fed to an llm\"\n",
    "- \". TAB always lists only what's relevant\" (no junk in the autocomplete)"
   ]
  },
  {
   "cell_type": "code",
   "execution_count": null,
   "metadata": {},
   "outputs": [],
   "source": [
    "#| hide\n",
    "import nbdev; nbdev.nbdev_export()"
   ]
  }
 ],
 "metadata": {
  "kernelspec": {
   "display_name": "python3",
   "language": "python",
   "name": "python3"
  }
 },
 "nbformat": 4,
 "nbformat_minor": 4
}
