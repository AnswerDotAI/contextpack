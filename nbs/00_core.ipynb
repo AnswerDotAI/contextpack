{
 "cells": [
  {
   "cell_type": "markdown",
   "metadata": {},
   "source": [
    "# core\n",
    "\n",
    "> Fill in a module description here"
   ]
  },
  {
   "cell_type": "code",
   "execution_count": 82,
   "metadata": {},
   "outputs": [],
   "source": [
    "#| default_exp core"
   ]
  },
  {
   "cell_type": "code",
   "execution_count": 83,
   "metadata": {},
   "outputs": [],
   "source": [
    "#| hide\n",
    "from nbdev.showdoc import *"
   ]
  },
  {
   "cell_type": "code",
   "execution_count": null,
   "metadata": {},
   "outputs": [],
   "source": [
    "#| export\n",
    "def foo(): pass"
   ]
  },
  {
   "cell_type": "markdown",
   "metadata": {},
   "source": [
    "Previous code to be migrated:"
   ]
  },
  {
   "cell_type": "markdown",
   "metadata": {},
   "source": [
    "### Design considerations:\n",
    "\n",
    "0. Should be easy for anyone to contribute new material, by adding to a python module.\n",
    "\n",
    "1. Want to enable the user to be able to browse-via-autocomplete over canned contexts by name.\n",
    "\n",
    "2. Want this autocomplete to work immediately, without the user needing to do anything besides importing the library.\n",
    "\n",
    "3. Want \"lazy fetching\" (i.e. evaluation), so merely importing the library does not trigger dozens of network fetches.\n",
    "\n",
    "4. nice-to-have. a facility for information _about_ the context besides just the name of it. Ideally interoperating with the normal docstring mechanism?\n",
    "\n",
    "### Findings:\n",
    "\n",
    "1. Existing solution uses function application to defer loading, but that also blocks providing immediate autocomplete over subtopics.\n",
    "\n",
    "2. `AttrDict` out-of-the-box produces too many completions for a great UX but maybe goodenough\n",
    "\n",
    "3. \n",
    "\n",
    "### Tentative design\n",
    "\n",
    "- top-level module namespace defines variables `ctx_fastcore`, `ctx_docker`, etc.., which provide context on major topics like fastcore, docker, etc..\n",
    "- attributes on these objects will autocomplete over sub-topics within each topic\n",
    "- each subtopic is represented by an object, which defines `.get()` which will return the context information.\n",
    "- A repr\n",
    "\n",
    "- \"anything returned by .get() can be fed to an llm\"\n",
    "- \". TAB always lists only what's relevant\" (no junk in the autocomplete)"
   ]
  },
  {
   "cell_type": "code",
   "execution_count": null,
   "metadata": {},
   "outputs": [],
   "source": []
  },
  {
   "cell_type": "code",
   "execution_count": 84,
   "metadata": {},
   "outputs": [],
   "source": [
    "from typing import Callable\n",
    "from ContextKit import *\n",
    "from fastcore.utils import *"
   ]
  },
  {
   "cell_type": "code",
   "execution_count": 159,
   "metadata": {},
   "outputs": [],
   "source": [
    "class ST:\n",
    "    def __init__(self,url,getter:Callable=read_url,docs:str|None=None):\n",
    "        self.url = url\n",
    "        self.getter = getter\n",
    "        self.docs=docs\n",
    "    def get(self):\n",
    "        return self.getter(self.url)\n",
    "    def _children(self):\n",
    "        return sorted(list(set(c for c in dir(self) if not c.startswith('_')) - {'get','getter','docs','url'}))\n",
    "    def __repr__(self):\n",
    "        s = ''\n",
    "        if self.url: s += f\"URL: {self.url}\\n\"\n",
    "        if self.docs: s += \"doc: {self.docs}\\n\"\n",
    "        if (cs := self._children()): s += f\"sub-topics: {cs}\\n\"            \n",
    "        return s\n"
   ]
  },
  {
   "cell_type": "code",
   "execution_count": 169,
   "metadata": {},
   "outputs": [],
   "source": [
    "class Topic:\n",
    "    def _children(self):\n",
    "        return sorted(list(set(c for c in dir(self) if not c.startswith('_')) - {'get','getter','docs','url'}))\n",
    "    def __repr__(self):\n",
    "        s = ''\n",
    "        if self.__doc__: s += f\"doc: {self.__doc__}\\n\"\n",
    "        if (cs := self._children()): s += f\"sub-topics: {cs}\\n\"            \n",
    "        return s\n"
   ]
  },
  {
   "cell_type": "code",
   "execution_count": 170,
   "metadata": {},
   "outputs": [],
   "source": [
    "class CTX_Fastlite_Sqlutils(Topic):\n",
    "    \"LLM contexts on fastlite-sqlutils\"\n",
    "    def __init__(self):\n",
    "        self.fastlite_index    = ST('https://answerdotai.github.io/fastlite/index.html.md')\n",
    "        self.fastlite_core     = ST('https://answerdotai.github.io/fastlite/core.html.md')\n",
    "        self.sqlite_utils_docs = ST('https://sqlite-utils.datasette.io/en/stable/python-api.html',\n",
    "                                    lambda url:read_url(url,sel='#sqlite-utils-python-library'))\n"
   ]
  },
  {
   "cell_type": "code",
   "execution_count": 171,
   "metadata": {},
   "outputs": [],
   "source": [
    "ctx_fastlite_sqlutils = CTX_Fastlite_Sqlutils()"
   ]
  },
  {
   "cell_type": "code",
   "execution_count": 182,
   "metadata": {},
   "outputs": [
    {
     "data": {
      "text/plain": [
       "doc: LLM contexts on fastlite-sqlutils\n",
       "sub-topics: ['fastlite_core', 'fastlite_index', 'sqlite_utils_docs']"
      ]
     },
     "execution_count": 182,
     "metadata": {},
     "output_type": "execute_result"
    }
   ],
   "source": [
    "ctx_fastlite_sqlutils"
   ]
  },
  {
   "cell_type": "code",
   "execution_count": 183,
   "metadata": {},
   "outputs": [
    {
     "data": {
      "text/plain": [
       "URL: https://answerdotai.github.io/fastlite/core.html.md"
      ]
     },
     "execution_count": 183,
     "metadata": {},
     "output_type": "execute_result"
    }
   ],
   "source": [
    "ctx_fastlite_sqlutils.fastlite_core"
   ]
  },
  {
   "cell_type": "code",
   "execution_count": 174,
   "metadata": {},
   "outputs": [],
   "source": [
    "class CTX_Claudette(Topic):\n",
    "    def __init__(self):\n",
    "        self.async_docs    = ST('https://claudette.answer.ai/async.html.md')\n",
    "        self.core_docs     = ST('https://claudette.answer.ai/core.html.md')\n",
    "        self.toolloop_docs = ST('https://claudette.answer.ai/toolloop.html.md')\n",
    "\n"
   ]
  },
  {
   "cell_type": "code",
   "execution_count": 175,
   "metadata": {},
   "outputs": [],
   "source": [
    "class CTX_Docker(Topic):\n",
    "    def __init__(self):\n",
    "        self.compose_file       = ST('https://docs.docker.com/reference/compose-file/')\n",
    "        self.docker_cli         = ST('https://docs.docker.com/reference/cli/docker/')\n",
    "        self.docker_compose_cli = ST('https://docs.docker.com/reference/cli/docker/compose/')\n",
    "        self.dockerd            = ST('https://docs.docker.com/reference/cli/dockerd/')\n",
    "        \n",
    "        # page-based URLs\n",
    "        url = 'https://docker-py.readthedocs.io/en/stable/{}.html'\n",
    "        page_names = ['client','configs','containers','images','networks','nodes',\n",
    "                 'plugins','secrets','services','swarm','volumes','api','tls',]\n",
    "        pageurls = [(f\"pg_{p}\",url.format(p)) for p in page_names]\n",
    "        for name,url in pageurls: setattr(self,name,ST(url))\n",
    "        "
   ]
  },
  {
   "cell_type": "code",
   "execution_count": 176,
   "metadata": {},
   "outputs": [],
   "source": [
    "class CTX_FastHtml(Topic):\n",
    "    \"LLM-friendly documentation for FastHtml\"\n",
    "    def __init__(self):\n",
    "        self.fasthtml_llms_ctx = ST('https://docs.fastht.ml/llms-ctx.txt')\n",
    "        self.hypermedia_summary = ST('https://gist.github.com/jph00/4ad7d35ad79013aded41b5ba535a12a3',read_gist)\n"
   ]
  },
  {
   "cell_type": "code",
   "execution_count": 177,
   "metadata": {},
   "outputs": [],
   "source": [
    "class CTX_NBClassicServer(Topic):\n",
    "    def __init__(self):\n",
    "        self.nbclassic_server = ST('https://nbclassic.readthedocs.io/en/latest/nbclassic.html',\n",
    "                                   lambda url:read_url(url,self='bd-article'))\n"
   ]
  },
  {
   "cell_type": "code",
   "execution_count": 178,
   "metadata": {},
   "outputs": [],
   "source": [
    "class CTX_Fastcore(Topic):\n",
    "    def __init__(self):\n",
    "        self.fc_llms_ctx   = SubTopic('https://fastcore.fast.ai/llms-ctx.txt')"
   ]
  },
  {
   "cell_type": "code",
   "execution_count": null,
   "metadata": {},
   "outputs": [],
   "source": []
  },
  {
   "cell_type": "code",
   "execution_count": 179,
   "metadata": {},
   "outputs": [],
   "source": [
    "ctx_docker = CTX_Docker()\n",
    "ctx_fastcore = CTX_Fastcore()\n",
    "ctx_nbclassic_server = CTX_NBClassicServer()\n",
    "ctx_fasthtml = CTX_FastHtml()\n",
    "ctx_claudette = CTX_Claudette()\n",
    "ctx_fastlite_sqlutils = CTX_Fastlite_Sqlutils()\n",
    "\n"
   ]
  },
  {
   "cell_type": "code",
   "execution_count": 181,
   "metadata": {},
   "outputs": [
    {
     "data": {
      "text/plain": [
       "URL: https://docs.docker.com/reference/compose-file/"
      ]
     },
     "execution_count": 181,
     "metadata": {},
     "output_type": "execute_result"
    }
   ],
   "source": [
    "ctx_docker.compose_file"
   ]
  },
  {
   "cell_type": "code",
   "execution_count": 91,
   "metadata": {},
   "outputs": [],
   "source": [
    "ctx_fasthtml.fasthtml_llms_ctx?"
   ]
  },
  {
   "cell_type": "code",
   "execution_count": 60,
   "metadata": {},
   "outputs": [
    {
     "data": {
      "text/plain": [
       "https://docs.docker.com/reference/compose-file/"
      ]
     },
     "execution_count": 60,
     "metadata": {},
     "output_type": "execute_result"
    }
   ],
   "source": [
    "ctx_docker.compose_file"
   ]
  },
  {
   "cell_type": "code",
   "execution_count": 38,
   "metadata": {},
   "outputs": [],
   "source": [
    "ctx_claudette = CTXClaudette()\n",
    "ctx_fastcore = CTXFastcore()"
   ]
  },
  {
   "cell_type": "code",
   "execution_count": null,
   "metadata": {},
   "outputs": [],
   "source": []
  },
  {
   "cell_type": "code",
   "execution_count": 39,
   "metadata": {},
   "outputs": [
    {
     "data": {
      "text/plain": [
       "https://fastcore.fast.ai/llms-ctx.txt"
      ]
     },
     "execution_count": 39,
     "metadata": {},
     "output_type": "execute_result"
    }
   ],
   "source": [
    "ctx_fastcore.fc_llms_ctx\n",
    "ctx_"
   ]
  },
  {
   "cell_type": "code",
   "execution_count": null,
   "metadata": {},
   "outputs": [],
   "source": []
  },
  {
   "cell_type": "code",
   "execution_count": null,
   "metadata": {},
   "outputs": [],
   "source": []
  },
  {
   "cell_type": "code",
   "execution_count": null,
   "metadata": {},
   "outputs": [],
   "source": []
  },
  {
   "cell_type": "code",
   "execution_count": null,
   "metadata": {},
   "outputs": [],
   "source": []
  },
  {
   "cell_type": "code",
   "execution_count": null,
   "metadata": {},
   "outputs": [],
   "source": []
  },
  {
   "cell_type": "code",
   "execution_count": null,
   "metadata": {},
   "outputs": [],
   "source": [
    "cc2.async_docs.doc()\n",
    "cc2.async_docs.asyncio.url()\n",
    "ccs.async_docs.get()"
   ]
  },
  {
   "cell_type": "code",
   "execution_count": null,
   "metadata": {},
   "outputs": [],
   "source": [
    "from contextpack import *\n",
    "\n",
    "ctx_TOPIC.get()\n",
    "ctx_TOPIC.SUBTOPIC.get()\n",
    "\n",
    "$`ctx_TOPIC.get()`"
   ]
  },
  {
   "cell_type": "code",
   "execution_count": null,
   "metadata": {},
   "outputs": [],
   "source": [
    "class CTRDocker:\n",
    "    def __init__(self):\n",
    "        self.d = {}\n",
    "        self.cli \n",
    "    "
   ]
  },
  {
   "cell_type": "code",
   "execution_count": null,
   "metadata": {},
   "outputs": [],
   "source": [
    "a\n",
    "\n",
    "class TopicBrowser:\n",
    "    def __init__(self,d:dict[str,str]):\n",
    "        self.d = d\n",
    "        # dynamically define attributes based on keys."
   ]
  },
  {
   "cell_type": "code",
   "execution_count": null,
   "metadata": {},
   "outputs": [],
   "source": []
  },
  {
   "cell_type": "code",
   "execution_count": null,
   "metadata": {},
   "outputs": [],
   "source": []
  },
  {
   "cell_type": "code",
   "execution_count": null,
   "metadata": {},
   "outputs": [],
   "source": []
  },
  {
   "cell_type": "code",
   "execution_count": 10,
   "metadata": {},
   "outputs": [],
   "source": [
    "cc = ctx_claudette()"
   ]
  },
  {
   "cell_type": "code",
   "execution_count": null,
   "metadata": {},
   "outputs": [],
   "source": [
    "cc."
   ]
  },
  {
   "cell_type": "code",
   "execution_count": null,
   "metadata": {},
   "outputs": [],
   "source": [
    "#| hide\n",
    "import nbdev; nbdev.nbdev_export()"
   ]
  }
 ],
 "metadata": {
  "kernelspec": {
   "display_name": "Python 3 (ipykernel)",
   "language": "python",
   "name": "python3"
  },
  "language_info": {
   "codemirror_mode": {
    "name": "ipython",
    "version": 3
   },
   "file_extension": ".py",
   "mimetype": "text/x-python",
   "name": "python",
   "nbconvert_exporter": "python",
   "pygments_lexer": "ipython3",
   "version": "3.12.8"
  }
 },
 "nbformat": 4,
 "nbformat_minor": 4
}
